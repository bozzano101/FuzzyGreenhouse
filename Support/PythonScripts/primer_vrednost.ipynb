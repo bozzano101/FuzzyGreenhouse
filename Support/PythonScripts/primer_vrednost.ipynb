{
 "cells": [
  {
   "cell_type": "code",
   "execution_count": 1,
   "id": "2d32d9d1",
   "metadata": {},
   "outputs": [],
   "source": [
    "class MFInput:\n",
    "    \n",
    "    def __init__(self, name, x, y, x0):\n",
    "        \n",
    "        self.name = name\n",
    "        # list of tuples\n",
    "        self.points = [(x[i], y[i]) for i in range(len(x))]\n",
    "        self.mi = self.getMi(x0)\n",
    "        \n",
    "    def getY(self, x1, y1, x2, y2, x0):\n",
    "        \n",
    "        if y1 == y2:\n",
    "            return y1\n",
    "        if y1 < y2:\n",
    "            return (x0 - x1) / (x2 -x1)\n",
    "        return (x2 - x0) / (x2 - x1)\n",
    "    \n",
    "    def getMi(self, x0):\n",
    "        \n",
    "        if x0 < self.points[0][0]: \n",
    "            return self.points[0][1]\n",
    "        if x0 > self.points[-1][0]:\n",
    "            return self.points[-1][1]\n",
    "        for i in range(1,len(self.points)):\n",
    "            x1 = self.points[i - 1][0]\n",
    "            x2 = self.points[i][0]\n",
    "            if x0 >= x1 and x0 < x2:\n",
    "                y1 = self.points[i - 1][1]\n",
    "                y2 = self.points[i][1]\n",
    "                return self.getY(x1, y1, x2, y2, x0)\n",
    "        return -1\n",
    "    "
   ]
  },
  {
   "cell_type": "code",
   "execution_count": 2,
   "id": "7fc262a5",
   "metadata": {},
   "outputs": [],
   "source": [
    "class MFOutput:\n",
    "    def __init__(self, name, x, y):\n",
    "        self.name = name\n",
    "        sumX = 0\n",
    "        nb1 = 0\n",
    "        self.points = []\n",
    "        for i in range(len(x)):\n",
    "            self.points.append((x[i], y[i]))\n",
    "            if y[i] == 1:\n",
    "                sumX += x[i]\n",
    "                nb1 += 1\n",
    "        self.mi = 0\n",
    "        self.value = sumX / nb1"
   ]
  },
  {
   "cell_type": "code",
   "execution_count": 3,
   "id": "f42946e6",
   "metadata": {},
   "outputs": [],
   "source": [
    "from enum import Enum, unique\n",
    "@unique\n",
    "class Logic(Enum):\n",
    "    OR = 0\n",
    "    AND = 1\n",
    "    "
   ]
  },
  {
   "cell_type": "code",
   "execution_count": 4,
   "id": "409c98e5",
   "metadata": {},
   "outputs": [],
   "source": [
    "class Rule:\n",
    "    def __init__(self, mfi1, mfi2, mfo, logic):\n",
    "        self.mfInput1 = mfi1\n",
    "        self.mfInput2 = mfi2\n",
    "        self.mfOutput = mfo\n",
    "        if logic == Logic.OR:\n",
    "            self.mfOutput.mi = max(self.mfOutput.mi, max(self.mfInput1.mi, self.mfInput2.mi))\n",
    "        else:\n",
    "            self.mfOutput.mi = max(self.mfOutput.mi, min(self.mfInput1.mi, self.mfInput2.mi))"
   ]
  },
  {
   "cell_type": "code",
   "execution_count": 5,
   "id": "d89090f3",
   "metadata": {},
   "outputs": [],
   "source": [
    "def main():\n",
    "    potrosnja = []\n",
    "    potrosnja.append(MFInput(\"mala\", [3, 10], [1, 0], 9))\n",
    "    potrosnja.append(MFInput(\"srednja\", [7, 10, 12, 15], [0, 1, 1, 0], 9))\n",
    "    potrosnja.append(MFInput(\"velika\", [12, 15], [0, 1], 9))\n",
    "    \n",
    "    pouzdanost = []\n",
    "    pouzdanost.append(MFInput(\"visoka\", [5, 10], [1, 0], 8))\n",
    "    pouzdanost.append(MFInput(\"niska\", [8, 15], [0, 1], 8))\n",
    "    \n",
    "    vrednost = []\n",
    "    vrednost.append(MFOutput(\"mala\", [7, 15], [1, 0]))\n",
    "    vrednost.append(MFOutput(\"srednja\", [7, 15, 25, 40], [0, 1, 1, 0]))\n",
    "    vrednost.append(MFOutput(\"velika\", [25, 40], [0, 1]))\n",
    "    \n",
    "    rules = []\n",
    "    rules.append(Rule(potrosnja[0], pouzdanost[0], vrednost[2], Logic.AND))\n",
    "    rules.append(Rule(potrosnja[0], pouzdanost[1], vrednost[1], Logic.AND))\n",
    "    rules.append(Rule(potrosnja[1], pouzdanost[0], vrednost[1], Logic.AND))\n",
    "    rules.append(Rule(potrosnja[1], pouzdanost[1], vrednost[1], Logic.AND))\n",
    "    rules.append(Rule(potrosnja[2], pouzdanost[0], vrednost[1], Logic.AND))\n",
    "    rules.append(Rule(potrosnja[2], pouzdanost[1], vrednost[0], Logic.AND))\n",
    "    \n",
    "    numerator = 0\n",
    "    denominator = 0 \n",
    "    for mfo in vrednost:\n",
    "        numerator += mfo.mi * mfo.value\n",
    "        denominator += mfo.mi\n",
    "    solution = numerator / denominator\n",
    "    \n",
    "    print(\"Potrosnja:\")\n",
    "    for mfi in potrosnja:\n",
    "        print(mfi.name, mfi.mi)\n",
    "    print(\"Pouzdanost\")\n",
    "    for mfi in pouzdanost:\n",
    "        print(mfi.name, mfi.mi)\n",
    "    print(\"Vrednost\")\n",
    "    for mfo in vrednost:\n",
    "        print(mfo.name, mfo.mi, mfo.value)    \n",
    "    print(\"Resenje je {}\".format(solution))"
   ]
  },
  {
   "cell_type": "code",
   "execution_count": 6,
   "id": "6a50eb38",
   "metadata": {},
   "outputs": [
    {
     "name": "stdout",
     "output_type": "stream",
     "text": [
      "Potrosnja:\n",
      "mala 0.14285714285714285\n",
      "srednja 0.6666666666666666\n",
      "velika 0\n",
      "Pouzdanost\n",
      "visoka 0.4\n",
      "niska 0.0\n",
      "Vrednost\n",
      "mala 0 7.0\n",
      "srednja 0.4 20.0\n",
      "velika 0.14285714285714285 40.0\n",
      "Resenje je 25.26315789473684\n"
     ]
    }
   ],
   "source": [
    "main()"
   ]
  },
  {
   "cell_type": "code",
   "execution_count": null,
   "id": "d6f9e33e",
   "metadata": {},
   "outputs": [],
   "source": []
  },
  {
   "cell_type": "code",
   "execution_count": null,
   "id": "88eb1a33",
   "metadata": {},
   "outputs": [],
   "source": []
  }
 ],
 "metadata": {
  "kernelspec": {
   "display_name": "Python 3",
   "language": "python",
   "name": "python3"
  },
  "language_info": {
   "codemirror_mode": {
    "name": "ipython",
    "version": 3
   },
   "file_extension": ".py",
   "mimetype": "text/x-python",
   "name": "python",
   "nbconvert_exporter": "python",
   "pygments_lexer": "ipython3",
   "version": "3.8.8"
  }
 },
 "nbformat": 4,
 "nbformat_minor": 5
}
